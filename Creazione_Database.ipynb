{
 "cells": [
  {
   "cell_type": "code",
   "execution_count": 21,
   "id": "9fd2f9c5-0c85-4b07-b4e7-df4f54503a22",
   "metadata": {},
   "outputs": [
    {
     "name": "stdout",
     "output_type": "stream",
     "text": [
      "Insert your password\n"
     ]
    },
    {
     "name": "stdin",
     "output_type": "stream",
     "text": [
      " ····\n"
     ]
    },
    {
     "name": "stdout",
     "output_type": "stream",
     "text": [
      "Connected successfully!!!\n"
     ]
    }
   ],
   "source": [
    "# Python code to illustrate\n",
    "# inserting data in MongoDB\n",
    "from pymongo import MongoClient\n",
    "import urllib\n",
    "import json\n",
    "import getpass\n",
    "try:\n",
    "    print('Insert your password')\n",
    "    password = getpass.getpass()\n",
    "    client = MongoClient(\"mongodb+srv://{}:{}@cluster0.wr80t.mongodb.net/MyDatabasex?retryWrites=true&w=majority\".format('monia', password))\n",
    "    print(\"Connected successfully!!!\")\n",
    "except:\n",
    "    print(\"Could not connect to MongoDB\")\n",
    "\n",
    "# create a database or connect to existing one\n",
    "db = client['DatabaseFactor']\n",
    "\n",
    "# Created or Switched to collection names:\n",
    "collection = db['tweets']"
   ]
  },
  {
   "cell_type": "code",
   "execution_count": 22,
   "id": "f9bf4f2f-9f4d-4973-a84f-233acb94379f",
   "metadata": {},
   "outputs": [],
   "source": [
    "import pandas as pd\n",
    "import glob\n",
    "\n",
    "path = r'/home/user/Scaricati/tweets_agrigento_2021' # use your path\n",
    "all_files = glob.glob(path + \"/*.csv\")\n",
    "\n",
    "li = []\n",
    "\n",
    "for filename in all_files:\n",
    "    df = pd.read_csv(filename, index_col=None, header=0)\n",
    "    location = filename.split('_')[1]\n",
    "    df['location']= location\n",
    "    li.append(df)\n",
    "\n",
    "frame = pd.concat(li, axis=0, ignore_index=True)"
   ]
  },
  {
   "cell_type": "code",
   "execution_count": 23,
   "id": "7caf7ee1-f3b8-4791-a2d2-c988350477f7",
   "metadata": {},
   "outputs": [],
   "source": [
    "#to avoid having same tweet in the dataset I set tweet_id as _id, so mongo recognize it as a primary key \n",
    "frame = frame.rename({'tweet_id': '_id'}, axis=1) "
   ]
  },
  {
   "cell_type": "code",
   "execution_count": 26,
   "id": "03ffb15a-b865-4acf-be5e-ae817d07ec4f",
   "metadata": {},
   "outputs": [],
   "source": [
    "frame.reset_index(inplace=True)\n",
    "#mongo only accepts dict\n",
    "data_dict = frame.to_dict(\"records\")"
   ]
  },
  {
   "cell_type": "code",
   "execution_count": 27,
   "id": "d81a6595-f5b3-48f6-8a20-b4863bed96a1",
   "metadata": {},
   "outputs": [],
   "source": [
    "# Insert Data\n",
    "insert = collection.insert_many(data_dict)"
   ]
  },
  {
   "cell_type": "code",
   "execution_count": null,
   "id": "1cfc7a6f-ce81-4df1-b0ba-9fe693e4e233",
   "metadata": {},
   "outputs": [],
   "source": []
  }
 ],
 "metadata": {
  "kernelspec": {
   "display_name": "Python 3",
   "language": "python",
   "name": "python3"
  },
  "language_info": {
   "codemirror_mode": {
    "name": "ipython",
    "version": 3
   },
   "file_extension": ".py",
   "mimetype": "text/x-python",
   "name": "python",
   "nbconvert_exporter": "python",
   "pygments_lexer": "ipython3",
   "version": "3.8.8"
  }
 },
 "nbformat": 4,
 "nbformat_minor": 5
}
