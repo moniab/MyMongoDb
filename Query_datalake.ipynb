{
 "cells": [
  {
   "cell_type": "code",
   "execution_count": 4,
   "id": "8981ce71-b457-4ad5-92d6-78d5dd697f85",
   "metadata": {},
   "outputs": [
    {
     "name": "stdout",
     "output_type": "stream",
     "text": [
      "Insert your password\n"
     ]
    },
    {
     "name": "stdin",
     "output_type": "stream",
     "text": [
      " ····\n"
     ]
    },
    {
     "name": "stdout",
     "output_type": "stream",
     "text": [
      "Connected successfully!!!\n"
     ]
    }
   ],
   "source": [
    "from pymongo import MongoClient\n",
    "import urllib\n",
    "import json\n",
    "import getpass\n",
    "try:\n",
    "    print('Insert your password')\n",
    "    password = getpass.getpass()\n",
    "    client = MongoClient(\"mongodb://{}:{}@datalake1-wr80t.a.query.mongodb.net/myFirstDatabase?ssl=true&authSource=admin\".format('monia', password))\n",
    "    print(\"Connected successfully!!!\")\n",
    "except:\n",
    "    print(\"Could not connect to MongoDB\")"
   ]
  },
  {
   "cell_type": "code",
   "execution_count": 5,
   "id": "6208b1b1-43b3-4fea-9ab5-e7854dcd925a",
   "metadata": {},
   "outputs": [],
   "source": [
    "#Create a new db or connect to existing one. \n",
    "db = client['Database0']\n",
    "\n",
    "# Created or Switched to collection names:\n",
    "collection = db['tweets']"
   ]
  },
  {
   "cell_type": "code",
   "execution_count": null,
   "id": "e42503c2-3060-4a12-9b8c-fd5f31869af1",
   "metadata": {},
   "outputs": [],
   "source": [
    "#I want to find the records twith location=agrigento and date>30/12/2020\n",
    "docs = collection.find({'location': 'agrigento', \"date\": {'$gt': '30/12/2020'}})\n",
    "for d in docs:\n",
    "    print(d) #In this way I will be displayed all the records respecting my conditions "
   ]
  },
  {
   "cell_type": "code",
   "execution_count": 22,
   "id": "bd341771-5006-4013-989c-35fef751d1bd",
   "metadata": {},
   "outputs": [
    {
     "name": "stderr",
     "output_type": "stream",
     "text": [
      "<ipython-input-22-7388e4a9fc1d>:2: DeprecationWarning: count is deprecated. Use Collection.count_documents instead.\n",
      "  docs.count()\n"
     ]
    },
    {
     "data": {
      "text/plain": [
       "476"
      ]
     },
     "execution_count": 22,
     "metadata": {},
     "output_type": "execute_result"
    }
   ],
   "source": [
    "#First way to aggregate values:\n",
    "docs.count()"
   ]
  },
  {
   "cell_type": "code",
   "execution_count": 18,
   "id": "7fc02104-d98d-4571-b3e5-157b0443129e",
   "metadata": {},
   "outputs": [
    {
     "name": "stdout",
     "output_type": "stream",
     "text": [
      "{'text': 476}\n"
     ]
    }
   ],
   "source": [
    "#Second way to aggregate values: I want to count how many rows have location=agrigento and were written after 01/07/2020\n",
    "print(collection.aggregate([{'$match': {\"location\" : 'agrigento', \"date\": {'$gt': '30/12/2020'}} },{ '$count': \"text\"}]).next())"
   ]
  },
  {
   "cell_type": "code",
   "execution_count": null,
   "id": "bfc876a0-cf78-49e9-9321-0f46bf0e8a6c",
   "metadata": {},
   "outputs": [],
   "source": []
  }
 ],
 "metadata": {
  "kernelspec": {
   "display_name": "Python 3",
   "language": "python",
   "name": "python3"
  },
  "language_info": {
   "codemirror_mode": {
    "name": "ipython",
    "version": 3
   },
   "file_extension": ".py",
   "mimetype": "text/x-python",
   "name": "python",
   "nbconvert_exporter": "python",
   "pygments_lexer": "ipython3",
   "version": "3.8.8"
  }
 },
 "nbformat": 4,
 "nbformat_minor": 5
}
