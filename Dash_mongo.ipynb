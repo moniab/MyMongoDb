{
 "cells": [
  {
   "cell_type": "code",
   "execution_count": null,
   "id": "f61f775a-134e-4dbc-b6e9-5b31d6c29183",
   "metadata": {},
   "outputs": [],
   "source": [
    "from jupyter_dash import JupyterDash     # need Dash version 1.21.0 or higher\n",
    "from dash.dependencies import Input, Output, State\n",
    "import dash_table\n",
    "import dash_core_components as dcc\n",
    "import dash_html_components as html\n",
    "\n",
    "import pandas as pd\n",
    "import plotly.express as px\n",
    "import pymongo\n",
    "from pymongo import MongoClient\n",
    "import getpass\n",
    "import json\n",
    "from datetime import datetime\n",
    "\n",
    "\n",
    "#-----------------------------------------------Connection to Mongo------------------------------------------------------------------------\n",
    "# Connect to local server\n",
    "password= getpass.getpass()\n",
    "username='monia'\n",
    "client = MongoClient(\"mongodb+srv://{}:{}@cluster0.wr80t.mongodb.net/myFirstDatabase?retryWrites=true&w=majority\".format(username, password))\n",
    "\n",
    "# Create database called animals\n",
    "mydb = client[\"sentiment\"]\n",
    "# Create Collection (table) called shelterA\n",
    "collection = mydb.df_sentiment"
   ]
  },
  {
   "cell_type": "code",
   "execution_count": null,
   "id": "a205ab1f-2f3e-4ab7-bef2-622e62a86df1",
   "metadata": {},
   "outputs": [],
   "source": [
    "#Inserting elements into the db\n",
    "df=pd.read_csv('df_by_day.csv')\n",
    "df=df.to_json(orient='records')\n",
    "parsed = json.loads(df)\n",
    "collection.insert_many(parsed)"
   ]
  },
  {
   "cell_type": "code",
   "execution_count": 69,
   "id": "f830423e-3a4e-4b2d-99d9-171647f6ce29",
   "metadata": {},
   "outputs": [
    {
     "data": {
      "text/html": [
       "\n",
       "        <iframe\n",
       "            width=\"100%\"\n",
       "            height=\"650\"\n",
       "            src=\"http://127.0.0.1:8050/\"\n",
       "            frameborder=\"0\"\n",
       "            allowfullscreen\n",
       "        ></iframe>\n",
       "        "
      ],
      "text/plain": [
       "<IPython.lib.display.IFrame at 0x7fec306cbe50>"
      ]
     },
     "metadata": {},
     "output_type": "display_data"
    },
    {
     "name": "stdout",
     "output_type": "stream",
     "text": [
      "0\n"
     ]
    }
   ],
   "source": [
    "#--------------------------------------------------Beginning Dash-------------------------------------------------------------------------\n",
    "app = JupyterDash(__name__, external_stylesheets=['https://codepen.io/chriddyp/pen/bWLwgP.css'])\n",
    "\n",
    "app.layout = html.Div([\n",
    "    html.Div(id='mongo-datatable', children=[]),\n",
    "    # activated once/week or when page refreshed\n",
    "    dcc.Interval(id='interval_db', interval=86400000 * 7, n_intervals=0), \n",
    "    html.Div(id=\"show-graphs\", children=[]),\n",
    "])\n",
    "\n",
    "# Display Datatable with data from Mongo database \n",
    "@app.callback(Output('mongo-datatable', 'children'),\n",
    "              [Input('interval_db', 'n_intervals')])\n",
    "def populate_datatable(n_intervals):\n",
    "    print(n_intervals)\n",
    "    # Convert the Collection (table) date to a pandas DataFrame\n",
    "    df = pd.DataFrame(list(collection.find()))\n",
    "    #Drop the _id column generated automatically by Mongo\n",
    "    df = df.iloc[:, 1:]\n",
    "\n",
    "    return [\n",
    "        dash_table.DataTable(\n",
    "            id='my-table',\n",
    "            columns=[{\n",
    "                'name': x,\n",
    "                'id': x,\n",
    "            } for x in df.columns],\n",
    "            data=df.to_dict('records'),\n",
    "            editable=True,\n",
    "            row_deletable=True,\n",
    "            filter_action=\"native\",\n",
    "            filter_options={\"case\": \"sensitive\"},\n",
    "            sort_action=\"native\",  # give user capability to sort columns\n",
    "            sort_mode=\"single\",  # sort across 'multi' or 'single' columns\n",
    "            page_current=0,  # page number that user is on\n",
    "            page_size=6,  # number of rows visible per page\n",
    "            style_cell={'textAlign': 'left', 'minWidth': '100px',\n",
    "                        'width': '100px', 'maxWidth': '100px'},\n",
    "        )\n",
    "    ]\n",
    "\n",
    "\n",
    "\n",
    "# Create graphs from DataTable data ***************************************\n",
    "@app.callback(\n",
    "    Output('show-graphs', 'children'),\n",
    "    Input('my-table', 'data')\n",
    ")\n",
    "def add_row(data):\n",
    "    df_graph = pd.DataFrame(data) \n",
    "    df_graph['date']=pd.to_datetime(df_graph['date'], format='%d/%m/%Y') #turn date into date_time type\n",
    "    df_graph= df_graph.sort_values('date') #sort values by date\n",
    "    mapping={'Negative':-1, 'Positive':1, 'Neutral':0}\n",
    "    df_graph['label']= df_graph['label'].map(mapping) #map strings to values (-1.0,1)\n",
    "    df_graph['overall_sentiment']= df_graph['count']*df_graph['label'] #sum the values\n",
    "    df= df_graph.groupby(by='date', as_index=False).sum('overall_sentiment')\n",
    "    \n",
    "    fig_hist1 = px.histogram(df_graph, x='label',color=\"label\")\n",
    "    fig_hist2 = px.line(df, x=\"date\", y='overall_sentiment')\n",
    "    return [\n",
    "        html.Div(children=[dcc.Graph(figure=fig_hist1)], className=\"six columns\"),\n",
    "        html.Div(children=[dcc.Graph(figure=fig_hist2)], className=\"six columns\")\n",
    "    ]\n",
    "\n",
    "\n",
    "app.run_server(mode='inline')"
   ]
  }
 ],
 "metadata": {
  "kernelspec": {
   "display_name": "Python 3",
   "language": "python",
   "name": "python3"
  },
  "language_info": {
   "codemirror_mode": {
    "name": "ipython",
    "version": 3
   },
   "file_extension": ".py",
   "mimetype": "text/x-python",
   "name": "python",
   "nbconvert_exporter": "python",
   "pygments_lexer": "ipython3",
   "version": "3.8.8"
  }
 },
 "nbformat": 4,
 "nbformat_minor": 5
}
